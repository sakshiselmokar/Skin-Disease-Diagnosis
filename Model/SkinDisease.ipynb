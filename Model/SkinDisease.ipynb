{
 "cells": [
  {
   "cell_type": "markdown",
   "id": "1e4ccfeb",
   "metadata": {},
   "source": [
    "# 1.Importing Libraries"
   ]
  },
  {
   "cell_type": "code",
   "execution_count": 1,
   "id": "bacb7398",
   "metadata": {},
   "outputs": [],
   "source": [
    "import matplotlib.pyplot as plt\n",
    "import numpy as np\n",
    "import pandas as pd\n",
    "import os\n",
    "from glob import glob\n",
    "import seaborn as sns\n",
    "from PIL import Image\n",
    "\n",
    "np.random.seed(42)\n",
    "from sklearn.metrics import confusion_matrix\n",
    "import tensorflow as tf\n",
    "import keras\n",
    "from tensorflow.keras.utils import to_categorical\n",
    "from tensorflow.keras.models import Sequential\n",
    "from tensorflow.keras.layers import Dense, Dropout, Flatten, Conv2D, MaxPool2D, BatchNormalization\n",
    "from sklearn.model_selection import train_test_split\n",
    "from scipy import stats\n",
    "from sklearn.preprocessing import LabelEncoder"
   ]
  },
  {
   "cell_type": "markdown",
   "id": "2b52cc5e",
   "metadata": {},
   "source": [
    "# 2.Loading data "
   ]
  },
  {
   "cell_type": "code",
   "execution_count": 2,
   "id": "3c9f7c42",
   "metadata": {},
   "outputs": [],
   "source": [
    "#reading metadata into pandas dataframe\n",
    "df=pd.read_csv('data/HAM10000/HAM10000_metadata.csv')\n",
    "#creating a dictionary of image paths\n",
    "image_path = {os.path.splitext(os.path.basename(x))[0]: x\n",
    "                     for x in glob(os.path.join('data/HAM10000/', '*', '*.jpg'))}"
   ]
  },
  {
   "cell_type": "code",
   "execution_count": 3,
   "id": "239ffcdd",
   "metadata": {},
   "outputs": [
    {
     "name": "stdout",
     "output_type": "stream",
     "text": [
      "['akiec', 'bcc', 'bkl', 'df', 'mel', 'nv', 'vasc']\n",
      "        lesion_id      image_id   dx    dx_type   age     sex  \\\n",
      "1617  HAM_0007180  ISIC_0033272  mel      histo  65.0    male   \n",
      "8128  HAM_0007195  ISIC_0031923   nv      histo  40.0  female   \n",
      "2168  HAM_0001835  ISIC_0026652  mel      histo  65.0    male   \n",
      "1090  HAM_0000465  ISIC_0030583  bkl  consensus  35.0  female   \n",
      "7754  HAM_0001720  ISIC_0034010   nv      histo  45.0    male   \n",
      "\n",
      "         localization  label  \n",
      "1617             face      4  \n",
      "8128  lower extremity      5  \n",
      "2168             back      4  \n",
      "1090            trunk      2  \n",
      "7754          abdomen      5  \n"
     ]
    }
   ],
   "source": [
    "#Label encoding:assign each label/catergory to an unique integer\n",
    "le = LabelEncoder()\n",
    "le.fit(df['dx'])#dx=label type of each disease\n",
    "LabelEncoder()\n",
    "print(list(le.classes_))#all the available labels \n",
    " \n",
    "df['label'] = le.transform(df[\"dx\"]) #adding the encoded labels as a new column to the dataframe\n",
    "print(df.sample(5))#print random rows in dataframe"
   ]
  },
  {
   "cell_type": "code",
   "execution_count": 4,
   "id": "5aeccc61",
   "metadata": {},
   "outputs": [],
   "source": [
    "#adding image path as new coulmn\n",
    "df['path'] = df['image_id'].map(image_path.get)\n",
    "#Use the path to read images and add as another coloumn.\n",
    "df['image'] = df['path'].map(lambda x: np.asarray(Image.open(x).resize((64,64))))#resizing image into 64*64"
   ]
  },
  {
   "cell_type": "markdown",
   "id": "1ccacab3",
   "metadata": {},
   "source": [
    "# 3.Data Cleaning"
   ]
  },
  {
   "cell_type": "code",
   "execution_count": 5,
   "id": "200f42df",
   "metadata": {},
   "outputs": [
    {
     "data": {
      "text/plain": [
       "lesion_id        0\n",
       "image_id         0\n",
       "dx               0\n",
       "dx_type          0\n",
       "age             57\n",
       "sex              0\n",
       "localization     0\n",
       "label            0\n",
       "path             0\n",
       "image            0\n",
       "dtype: int64"
      ]
     },
     "execution_count": 5,
     "metadata": {},
     "output_type": "execute_result"
    }
   ],
   "source": [
    "df.isnull().sum()#checking the total number of null values(NaN) in the dataframe"
   ]
  },
  {
   "cell_type": "code",
   "execution_count": 6,
   "id": "868405f2",
   "metadata": {},
   "outputs": [],
   "source": [
    "df['age'].fillna((df['age'].mean()), inplace=True)#replacing the null values with the mean using pandas \"fillna() method\""
   ]
  },
  {
   "cell_type": "code",
   "execution_count": 7,
   "id": "e52db135",
   "metadata": {},
   "outputs": [
    {
     "data": {
      "text/plain": [
       "lesion_id       0\n",
       "image_id        0\n",
       "dx              0\n",
       "dx_type         0\n",
       "age             0\n",
       "sex             0\n",
       "localization    0\n",
       "label           0\n",
       "path            0\n",
       "image           0\n",
       "dtype: int64"
      ]
     },
     "execution_count": 7,
     "metadata": {},
     "output_type": "execute_result"
    }
   ],
   "source": [
    "df.isnull().sum()#check null values again"
   ]
  },
  {
   "cell_type": "code",
   "execution_count": null,
   "id": "21637e98",
   "metadata": {},
   "outputs": [],
   "source": [
    "Create a variable y "
   ]
  }
 ],
 "metadata": {
  "kernelspec": {
   "display_name": "Python 3 (ipykernel)",
   "language": "python",
   "name": "python3"
  },
  "language_info": {
   "codemirror_mode": {
    "name": "ipython",
    "version": 3
   },
   "file_extension": ".py",
   "mimetype": "text/x-python",
   "name": "python",
   "nbconvert_exporter": "python",
   "pygments_lexer": "ipython3",
   "version": "3.9.10"
  }
 },
 "nbformat": 4,
 "nbformat_minor": 5
}
